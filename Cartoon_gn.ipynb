{
  "nbformat": 4,
  "nbformat_minor": 0,
  "metadata": {
    "colab": {
      "provenance": [],
      "authorship_tag": "ABX9TyM/8w1rzeuHXhbguYBpbhkL",
      "include_colab_link": true
    },
    "kernelspec": {
      "name": "python3",
      "display_name": "Python 3"
    },
    "language_info": {
      "name": "python"
    }
  },
  "cells": [
    {
      "cell_type": "markdown",
      "metadata": {
        "id": "view-in-github",
        "colab_type": "text"
      },
      "source": [
        "<a href=\"https://colab.research.google.com/github/CodeAlchemyAI/comic-book/blob/main/Cartoon_gn.ipynb\" target=\"_parent\"><img src=\"https://colab.research.google.com/assets/colab-badge.svg\" alt=\"Open In Colab\"/></a>"
      ]
    },
    {
      "cell_type": "code",
      "execution_count": null,
      "metadata": {
        "id": "0bjQI6SC5IeW"
      },
      "outputs": [],
      "source": [
        "!pip install openai\n",
        "!pip install requests"
      ]
    },
    {
      "cell_type": "code",
      "source": [
        "import os\n",
        "import base64\n",
        "from openai import OpenAI\n",
        "from IPython.display import display, Image, Audio\n",
        "\n",
        "import requests"
      ],
      "metadata": {
        "id": "n7TgRAIN5KH6"
      },
      "execution_count": 24,
      "outputs": []
    },
    {
      "cell_type": "code",
      "source": [
        "\n",
        "\n",
        "# Initialize the client with your OpenAI API key\n",
        "client = OpenAI(api_key=\"YOUR-API-KEY\")\n",
        "\n",
        "# List all files in the \"img\" folder\n",
        "image_folder = '/content/img'\n",
        "image_files = os.listdir(image_folder)\n",
        "\n",
        "# Filter and sort the image files\n",
        "image_files = sorted([file for file in image_files if file.lower().endswith(('.png', '.jpg', '.jpeg', '.gif', '.bmp'))])\n",
        "\n",
        "# Function to convert image to base64\n",
        "def image_to_base64(image_path):\n",
        "    with open(image_path, \"rb\") as image_file:\n",
        "        return base64.b64encode(image_file.read()).decode('utf-8')\n",
        "\n",
        "# Create base64 strings for each image, formatted as required\n",
        "base64_img = [image_to_base64(os.path.join(image_folder, file)) for file in image_files]\n",
        "\n",
        "# Construct the messages for the API call\n",
        "PROMPT_MESSAGES = [\n",
        "    {\n",
        "        \"role\": \"user\",\n",
        "        \"content\": [\n",
        "            \"Based on these comic book images, create a captivating and punctuated narrative story. Describe the unfolding events, character interactions, and transitions in scenes with vivid details and dialogue to convey the essence of the comic.\",\n",
        "            *map(lambda x: {\"image\": x, \"resize\": 768}, base64_img),\n",
        "        ],\n",
        "    },\n",
        "]\n",
        "\n",
        "# Prepare parameters for the API call\n",
        "params = {\n",
        "    \"model\": \"gpt-4-vision-preview\",\n",
        "    \"messages\": PROMPT_MESSAGES,\n",
        "    \"max_tokens\": 500,\n",
        "}\n",
        "\n",
        "# Make the API call\n",
        "result = client.chat.completions.create(**params)\n",
        "\n",
        "narative= result.choices[0].message.content\n"
      ],
      "metadata": {
        "id": "RsUzOWDt5c-r"
      },
      "execution_count": null,
      "outputs": []
    },
    {
      "cell_type": "code",
      "source": [
        "from pathlib import Path\n",
        "from openai import OpenAI\n",
        "\n",
        "response = client.audio.speech.create(\n",
        "  model=\"tts-1\",\n",
        "  voice=\"alloy\",\n",
        "  input=narative\n",
        ")\n",
        "\n",
        "response.stream_to_file(\"/content/output.mp3\")"
      ],
      "metadata": {
        "colab": {
          "base_uri": "https://localhost:8080/",
          "height": 250
        },
        "id": "2R6VSfja_pAz",
        "outputId": "0c4b45d9-8ce9-4c7e-fcb0-01841c0f2850"
      },
      "execution_count": 27,
      "outputs": [
        {
          "output_type": "error",
          "ename": "AttributeError",
          "evalue": "ignored",
          "traceback": [
            "\u001b[0;31m---------------------------------------------------------------------------\u001b[0m",
            "\u001b[0;31mAttributeError\u001b[0m                            Traceback (most recent call last)",
            "\u001b[0;32m<ipython-input-27-3ea74bbbaf8d>\u001b[0m in \u001b[0;36m<cell line: 11>\u001b[0;34m()\u001b[0m\n\u001b[1;32m      9\u001b[0m \u001b[0;34m\u001b[0m\u001b[0m\n\u001b[1;32m     10\u001b[0m \u001b[0maudio\u001b[0m \u001b[0;34m=\u001b[0m \u001b[0;34mb\"\"\u001b[0m\u001b[0;34m\u001b[0m\u001b[0;34m\u001b[0m\u001b[0m\n\u001b[0;32m---> 11\u001b[0;31m \u001b[0;32mfor\u001b[0m \u001b[0mchunk\u001b[0m \u001b[0;32min\u001b[0m \u001b[0mresponse\u001b[0m\u001b[0;34m.\u001b[0m\u001b[0miter_content\u001b[0m\u001b[0;34m(\u001b[0m\u001b[0mchunk_size\u001b[0m\u001b[0;34m=\u001b[0m\u001b[0;36m1024\u001b[0m \u001b[0;34m*\u001b[0m \u001b[0;36m1024\u001b[0m\u001b[0;34m)\u001b[0m\u001b[0;34m:\u001b[0m\u001b[0;34m\u001b[0m\u001b[0;34m\u001b[0m\u001b[0m\n\u001b[0m\u001b[1;32m     12\u001b[0m     \u001b[0maudio\u001b[0m \u001b[0;34m+=\u001b[0m \u001b[0mchunk\u001b[0m\u001b[0;34m\u001b[0m\u001b[0;34m\u001b[0m\u001b[0m\n\u001b[1;32m     13\u001b[0m \u001b[0mAudio\u001b[0m\u001b[0;34m(\u001b[0m\u001b[0maudio\u001b[0m\u001b[0;34m)\u001b[0m\u001b[0;34m\u001b[0m\u001b[0;34m\u001b[0m\u001b[0m\n",
            "\u001b[0;31mAttributeError\u001b[0m: 'HttpxBinaryResponseContent' object has no attribute 'iter_content'"
          ]
        }
      ]
    },
    {
      "cell_type": "code",
      "source": [],
      "metadata": {
        "id": "jjvk1VARBm4r"
      },
      "execution_count": 30,
      "outputs": []
    }
  ]
}